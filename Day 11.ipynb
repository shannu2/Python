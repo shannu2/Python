{
 "cells": [
  {
   "cell_type": "code",
   "execution_count": 2,
   "metadata": {},
   "outputs": [
    {
     "name": "stdout",
     "output_type": "stream",
     "text": [
      "test() for the class and method\n"
     ]
    }
   ],
   "source": [
    "class demo:\n",
    "    def test(self):\n",
    "        print(\"test() for the class and method\")\n",
    "        return\n",
    "    \n",
    "obj = demo()\n",
    "obj.test()"
   ]
  },
  {
   "cell_type": "code",
   "execution_count": 2,
   "metadata": {},
   "outputs": [],
   "source": [
    "class demo1:\n",
    "    def fact(self,n):\n",
    "        return\n",
    "    \n",
    "p1 = demo1()\n",
    "p1.fact(5)\n",
    "\n"
   ]
  },
  {
   "cell_type": "code",
   "execution_count": 20,
   "metadata": {},
   "outputs": [
    {
     "data": {
      "text/plain": [
       "120"
      ]
     },
     "execution_count": 20,
     "metadata": {},
     "output_type": "execute_result"
    }
   ],
   "source": [
    "class demo1:\n",
    "     def fact(self,n):\n",
    "        fact=1\n",
    "        while(n!=0):\n",
    "            fact=fact*n\n",
    "            n=n-1\n",
    "        return fact\n",
    "        \n",
    "p1=demo1() \n",
    "p1.fact(5)\n"
   ]
  },
  {
   "cell_type": "code",
   "execution_count": 23,
   "metadata": {},
   "outputs": [
    {
     "data": {
      "text/plain": [
       "720"
      ]
     },
     "execution_count": 23,
     "metadata": {},
     "output_type": "execute_result"
    }
   ],
   "source": [
    "def fact(n):\n",
    "    if(n==0):\n",
    "        return 1\n",
    "    else:\n",
    "        return n*fact(n-1)\n",
    "    \n",
    "fact(6)\n"
   ]
  },
  {
   "cell_type": "code",
   "execution_count": 25,
   "metadata": {
    "scrolled": true
   },
   "outputs": [
    {
     "name": "stdout",
     "output_type": "stream",
     "text": [
      "a= <__main__.demo2 object at 0x03F92150> <__main__.demo1 object at 0x03CFD850>\n",
      "b= 20\n"
     ]
    }
   ],
   "source": [
    "class demo2:\n",
    "    def accept(self,p1,p2):\n",
    "        self.p1=p1\n",
    "        self.p2=p2\n",
    "        return \n",
    "    def display(self):\n",
    "        print(\"a=\",self,p1)\n",
    "        print(\"b=\",self.p2)\n",
    "        \n",
    "c1=demo2()\n",
    "c1.accept(10,20)\n",
    "c1.display()"
   ]
  },
  {
   "cell_type": "code",
   "execution_count": 26,
   "metadata": {},
   "outputs": [
    {
     "name": "stdout",
     "output_type": "stream",
     "text": [
      "300\n"
     ]
    }
   ],
   "source": [
    "class demo2:\n",
    "    def __init__(self,p1,p2):\n",
    "        self.p1=p1\n",
    "        self.p2=p2\n",
    "    def add(self,p1,p2):\n",
    "        return p1+p2\n",
    "c1=demo2(10,20)\n",
    "print(c1.add(100,200))\n"
   ]
  },
  {
   "cell_type": "code",
   "execution_count": 27,
   "metadata": {},
   "outputs": [
    {
     "name": "stdout",
     "output_type": "stream",
     "text": [
      "12000\n"
     ]
    }
   ],
   "source": [
    "class demo2:\n",
    "    def __init__(self,a1,a2):\n",
    "        self.a1=a1\n",
    "        self.a2=a2\n",
    "    def product(self,a1,a2):\n",
    "        return a1*a2\n",
    "\n",
    "c1=demo2(10,20)\n",
    "print(c1.product(100,120))\n",
    "        "
   ]
  },
  {
   "cell_type": "code",
   "execution_count": 29,
   "metadata": {},
   "outputs": [
    {
     "name": "stdout",
     "output_type": "stream",
     "text": [
      "0.8333333333333334\n"
     ]
    }
   ],
   "source": [
    "class demo2:\n",
    "    def __init__(self,a1,a2):\n",
    "        self.a1=a1\n",
    "        self.a2=a2\n",
    "    def division(self,a1,a2):\n",
    "        return a1/a2\n",
    "\n",
    "c1=demo2(10,20)\n",
    "print(c1.division(100,120))\n",
    "        "
   ]
  },
  {
   "cell_type": "code",
   "execution_count": 1,
   "metadata": {},
   "outputs": [
    {
     "data": {
      "text/plain": [
       "array([ 1,  2,  3,  4,  5,  6,  7,  8,  9, 10, 11, 12, 13, 14, 15, 16, 17,\n",
       "       18, 19])"
      ]
     },
     "execution_count": 1,
     "metadata": {},
     "output_type": "execute_result"
    }
   ],
   "source": [
    "import numpy as np\n",
    "np.arange(1,20)\n"
   ]
  },
  {
   "cell_type": "code",
   "execution_count": 2,
   "metadata": {},
   "outputs": [
    {
     "data": {
      "text/plain": [
       "array([ 1,  2,  3,  4,  5,  6,  7,  8,  9, 10, 11, 12, 13, 14, 15, 16, 17,\n",
       "       18, 19])"
      ]
     },
     "execution_count": 2,
     "metadata": {},
     "output_type": "execute_result"
    }
   ],
   "source": [
    "import numpy as np\n",
    "np.arange(1,20)\n"
   ]
  },
  {
   "cell_type": "code",
   "execution_count": 4,
   "metadata": {},
   "outputs": [
    {
     "data": {
      "text/plain": [
       "array([ 2,  4,  6,  8, 10, 12, 14, 16, 18])"
      ]
     },
     "execution_count": 4,
     "metadata": {},
     "output_type": "execute_result"
    }
   ],
   "source": [
    "import numpy as np\n",
    "np.arange(2,20,2)\n"
   ]
  },
  {
   "cell_type": "code",
   "execution_count": null,
   "metadata": {},
   "outputs": [],
   "source": [
    "import numpy as np "
   ]
  }
 ],
 "metadata": {
  "kernelspec": {
   "display_name": "Python 3",
   "language": "python",
   "name": "python3"
  },
  "language_info": {
   "codemirror_mode": {
    "name": "ipython",
    "version": 3
   },
   "file_extension": ".py",
   "mimetype": "text/x-python",
   "name": "python",
   "nbconvert_exporter": "python",
   "pygments_lexer": "ipython3",
   "version": "3.7.3"
  }
 },
 "nbformat": 4,
 "nbformat_minor": 2
}
